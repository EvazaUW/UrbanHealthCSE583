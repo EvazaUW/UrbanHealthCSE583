{
 "cells": [
  {
   "cell_type": "code",
   "execution_count": null,
   "id": "3b716cd0-1f18-44f4-99ce-277052760b60",
   "metadata": {},
   "outputs": [],
   "source": [
    "#intial setup "
   ]
  },
  {
   "cell_type": "code",
   "execution_count": null,
   "id": "4699b1dc-f419-496c-b3dc-f026f717f398",
   "metadata": {},
   "outputs": [],
   "source": [
    "import pandas as pd \n",
    "import geopandas as gpd\n",
    "import np as np "
   ]
  },
  {
   "cell_type": "code",
   "execution_count": null,
   "id": "f866da9f-2aeb-4ddb-a873-b4def36efc56",
   "metadata": {},
   "outputs": [],
   "source": []
  }
 ],
 "metadata": {
  "kernelspec": {
   "display_name": "Python 3 (ipykernel)",
   "language": "python",
   "name": "python3"
  },
  "language_info": {
   "codemirror_mode": {
    "name": "ipython",
    "version": 3
   },
   "file_extension": ".py",
   "mimetype": "text/x-python",
   "name": "python",
   "nbconvert_exporter": "python",
   "pygments_lexer": "ipython3",
   "version": "3.11.7"
  }
 },
 "nbformat": 4,
 "nbformat_minor": 5
}
